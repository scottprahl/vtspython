{
 "cells": [
  {
   "cell_type": "markdown",
   "id": "84112efc-18ab-43cf-bded-faa619b5b254",
   "metadata": {},
   "source": [
    "# Using VTS in JupyterLab\n",
    "\n",
    "**Scott Prahl**\n",
    "\n",
    "**April 2024**\n",
    "\n",
    "This is a simple example of Jupyter notebook using VTS.  It is assumed that \n",
    "\n",
    "* [.NET 6](https://dotnet.microsoft.com/en-us/download/dotnet/6.0) has been installed\n",
    "* [VTS git repository](https://github.com/VirtualPhotonics/VTS) has been cloned into the directory `/path/to/vts`\n",
    "* pythonnet has been installed (`pip install pythonnet`) and configured"
   ]
  },
  {
   "cell_type": "code",
   "execution_count": null,
   "id": "f8b6e254-29a8-4114-aae3-cc26af412646",
   "metadata": {},
   "outputs": [],
   "source": [
    "import clr\n",
    "import numpy as np\n",
    "import matplotlib.pyplot as plt\n",
    "clr.AddReference(\"/Users/prahl/Documents/Code/git/vts/publish/local/Vts.dll\")"
   ]
  },
  {
   "cell_type": "markdown",
   "id": "78c003d7-de71-4a0f-a85c-eef69ac99cfd",
   "metadata": {},
   "source": [
    "Now import all the VTS modules."
   ]
  },
  {
   "cell_type": "code",
   "execution_count": null,
   "id": "ffd91dbf-1197-4656-a542-a979f30e2aea",
   "metadata": {},
   "outputs": [],
   "source": [
    "from Vts import *\n",
    "from Vts.Common import *\n",
    "from Vts.Extensions import *\n",
    "from Vts.Modeling.Optimizers import *\n",
    "from Vts.Modeling.ForwardSolvers import *\n",
    "#from Vts.SpectralMapping import *\n",
    "from Vts.Factories import *\n",
    "from Vts.MonteCarlo import *\n",
    "from Vts.MonteCarlo.Sources import *\n",
    "from Vts.MonteCarlo.Tissues import *\n",
    "from Vts.MonteCarlo.Detectors import *\n",
    "from Vts.MonteCarlo.Factories import *\n",
    "from Vts.MonteCarlo.PhotonData import *\n",
    "from Vts.MonteCarlo.PostProcessing import *\n",
    "from System import Array, Double"
   ]
  },
  {
   "cell_type": "markdown",
   "id": "d40ed2c7-2c8d-46ca-81e5-1e809f7e8e46",
   "metadata": {},
   "source": [
    "`SimulationInput` defines the simulation.  I think the default is collimated point source illumination normal to the surface."
   ]
  },
  {
   "cell_type": "code",
   "execution_count": null,
   "id": "db13c044-7a58-486e-b7a5-731ed305c494",
   "metadata": {},
   "outputs": [],
   "source": [
    "simulationInput = SimulationInput()\n",
    "simulationInput.N = 10000"
   ]
  },
  {
   "cell_type": "markdown",
   "id": "67f657f7-4382-455c-b653-2cfe5529c6b4",
   "metadata": {},
   "source": [
    "We add four detectors.  One to monitor the reflected excitance as a function of radius, and three to monitor the overall reflection and transmission."
   ]
  },
  {
   "cell_type": "code",
   "execution_count": null,
   "id": "df50b309-4ea0-406a-8716-c43c0e6e0c6c",
   "metadata": {},
   "outputs": [],
   "source": [
    "# add detectors to Simulation object\n",
    "detectors = Array.CreateInstance(IDetectorInput, 4)\n",
    "\n",
    "detectors[0] = ROfRhoDetectorInput()\n",
    "detectors[0].Rho = DoubleRange(start=0, stop=5, number=401)\n",
    "detectors[1] = RDiffuseDetectorInput()\n",
    "detectors[2] = RSpecularDetectorInput()\n",
    "detectors[3] = TDiffuseDetectorInput()\n",
    "\n",
    "simulationInput.DetectorInputs = detectors"
   ]
  },
  {
   "cell_type": "markdown",
   "id": "0c30747b-3deb-4360-8148-2d7ef8a27041",
   "metadata": {},
   "source": [
    "This is an index matched sample that has scattering of 0.99/mm and absorption of 0.01/mm.  It is 10mm thick."
   ]
  },
  {
   "cell_type": "code",
   "execution_count": null,
   "id": "53796fc5-1faf-4769-92f2-a20911612c39",
   "metadata": {},
   "outputs": [],
   "source": [
    "d = 10       # mm\n",
    "mua = 0.01   # mm⁻¹\n",
    "musp = 0.99  # mm⁻¹\n",
    "g = 0        # scattering anisotropy\n",
    "n = 1        # matched index of refraction\n",
    "\n",
    "regions = Array.CreateInstance(ITissueRegion, 3)\n",
    "\n",
    "regions[0] = LayerTissueRegion(zRange=DoubleRange(Double.NegativeInfinity, 0.0),\n",
    "                               op=OpticalProperties(mua=0.0, musp=1E-10, g=1.0, n=1.0)\n",
    "                              )\n",
    "\n",
    "regions[1] = LayerTissueRegion(zRange=DoubleRange(0.0, d),\n",
    "                               op=OpticalProperties(mua=mua, musp=musp, g=g, n=n)\n",
    "                              )\n",
    "\n",
    "regions[2] = LayerTissueRegion(zRange=DoubleRange(d, Double.PositiveInfinity),\n",
    "                               op=OpticalProperties(0.0, 1E-10, 1.0, 1.0)\n",
    "                              )\n",
    "\n",
    "simulationInput.TissueInput = MultiLayerTissueInput(regions)"
   ]
  },
  {
   "cell_type": "markdown",
   "id": "22a7166b-1681-4067-96df-0c45c114bb62",
   "metadata": {},
   "source": [
    "Now create the simulation object and run it!"
   ]
  },
  {
   "cell_type": "code",
   "execution_count": null,
   "id": "8fba7950-dc9a-4fb5-8d60-e10ac7e7fc6a",
   "metadata": {},
   "outputs": [],
   "source": [
    "simulation = MonteCarloSimulation(simulationInput)\n",
    "simulationOutput = simulation.Run()"
   ]
  },
  {
   "cell_type": "markdown",
   "id": "dc3860f2-d7f7-415d-9b7e-8c6d8796c62e",
   "metadata": {},
   "source": [
    "This is a bit strange.  To extract the data, we need to create an array of length 1.  The element of this array will have the data that we want."
   ]
  },
  {
   "cell_type": "code",
   "execution_count": null,
   "id": "c38c51e4-d777-487f-bccc-630149e9d701",
   "metadata": {},
   "outputs": [],
   "source": [
    "# extract the data\n",
    "rDiffuse = Array.CreateInstance(RDiffuseDetector, 1)\n",
    "rDiffuse[0] = simulationOutput.ResultsDictionary[\"RDiffuse\"]\n",
    "\n",
    "tDiffuse = Array.CreateInstance(TDiffuseDetector, 1)\n",
    "tDiffuse[0] = simulationOutput.ResultsDictionary[\"TDiffuse\"]\n",
    "\n",
    "rSpecular = Array.CreateInstance(RSpecularDetector, 1)\n",
    "rSpecular[0] = simulationOutput.ResultsDictionary[\"RSpecular\"]\n",
    "\n",
    "print(\"specular R = %.5f\" % rSpecular[0].Mean)\n",
    "print(\" diffuse R = %.5f\" % rDiffuse[0].Mean)\n",
    "print(\" diffuse T = %.5f\" % tDiffuse[0].Mean)"
   ]
  },
  {
   "cell_type": "markdown",
   "id": "a5c0b256-b040-4097-8c48-f1d3a14d50fb",
   "metadata": {},
   "source": [
    "The only surprising thing here is that the number of reflectance values is one less than the number of edges.  To plot, the array lengths should be the same so I drop the last element in the midpoint array.  This means that the edges are all on the left side of the bin (for positive radii).\n",
    "\n",
    "This is a simple plot mirroring the reflectance about the center of the beam."
   ]
  },
  {
   "cell_type": "code",
   "execution_count": null,
   "id": "476eeeac-8d72-45a0-baff-244b3de178b3",
   "metadata": {},
   "outputs": [],
   "source": [
    "detectorResults = Array.CreateInstance(ROfRhoDetector, 1)\n",
    "detectorResults[0] = simulationOutput.ResultsDictionary[\"ROfRho\"]\n",
    "\n",
    "reflectance = np.array([r for r in detectorResults[0].Mean])\n",
    "edges = np.array([mp for mp in detectorResults[0].Rho])[:-1]\n",
    "\n",
    "plt.figure(figsize=(8,4.5))\n",
    "plt.plot(edges, reflectance, 'ob', markersize=2)\n",
    "plt.plot(-edges, reflectance, 'ob', markersize=2)\n",
    "plt.xlabel('ρ [mm]')\n",
    "plt.ylabel('R(ρ) [W/mm²]')\n",
    "plt.title('1 W Impulse Beam')\n",
    "\n",
    "text_args = {\n",
    "    'ha': 'left',  # Horizontal alignment\n",
    "    'va': 'top',   # Vertical alignment\n",
    "    'transform': plt.gca().transAxes,  # Coordinate system transformation\n",
    "    'fontsize': 9  # Font size\n",
    "}\n",
    "\n",
    "plt.text(0.8, 0.95, 'n=%.3f' % n, **text_args)\n",
    "plt.text(0.8, 0.90, r'$\\mu_a$=%.2f mm⁻¹' % mua, **text_args)\n",
    "plt.text(0.8, 0.85, r\"${\\mu_s}'$=%.2f mm⁻¹\" % musp, **text_args)\n",
    "plt.text(0.8, 0.80, 'g=%.2f' % g, **text_args)\n",
    "plt.text(0.8, 0.75, 'd=%.1f mm' % d, **text_args)\n",
    "plt.show()"
   ]
  }
 ],
 "metadata": {
  "kernelspec": {
   "display_name": "Python 3 (ipykernel)",
   "language": "python",
   "name": "python3"
  },
  "language_info": {
   "codemirror_mode": {
    "name": "ipython",
    "version": 3
   },
   "file_extension": ".py",
   "mimetype": "text/x-python",
   "name": "python",
   "nbconvert_exporter": "python",
   "pygments_lexer": "ipython3",
   "version": "3.12.3"
  }
 },
 "nbformat": 4,
 "nbformat_minor": 5
}
